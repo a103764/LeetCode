{
 "cells": [
  {
   "cell_type": "code",
   "execution_count": 3,
   "id": "b74d499e-7b36-495e-a01d-57114309c5ea",
   "metadata": {},
   "outputs": [],
   "source": [
    "#Input: nums = [2,7,11,15], target = 9\n",
    "#Output: [0,1]\n",
    "#Explanation: Because nums[0] + nums[1] == 9, we return [0, 1]."
   ]
  },
  {
   "cell_type": "code",
   "execution_count": 97,
   "id": "87f91504-a0de-462f-a65c-1d9ac46ad372",
   "metadata": {},
   "outputs": [],
   "source": [
    "# create class with method called twoSum\n",
    "class Solution(object):\n",
    "    def twoSumPrint(self, nums):\n",
    "        for i in range(len(nums)):\n",
    "            for j in range(i+1, len(nums)):\n",
    "                print(nums[i] + nums[j])\n",
    "        return []\n",
    "\n",
    "    def twoSumCheck(self, nums, target):\n",
    "        for i in range(len(nums)):\n",
    "            for j in range(i+1, len(nums)):\n",
    "                if nums[i] + nums[j] == 9:\n",
    "                    print(i, j)\n",
    "        return []"
   ]
  },
  {
   "cell_type": "code",
   "execution_count": 99,
   "id": "388a1632-7732-4325-848b-dbf0451a4d60",
   "metadata": {},
   "outputs": [
    {
     "name": "stdout",
     "output_type": "stream",
     "text": [
      "9\n",
      "13\n",
      "17\n",
      "18\n",
      "22\n",
      "26\n"
     ]
    }
   ],
   "source": [
    "nums = [2,7,11,15]\n",
    "\n",
    "sol = Solution()\n",
    "result = sol.twoSumPrint(nums)"
   ]
  },
  {
   "cell_type": "code",
   "execution_count": 101,
   "id": "c76677c1-ba6c-4279-8b02-bed20e3df124",
   "metadata": {},
   "outputs": [
    {
     "name": "stdout",
     "output_type": "stream",
     "text": [
      "0 1\n"
     ]
    }
   ],
   "source": [
    "result = sol.twoSumCheck(nums, 9)"
   ]
  }
 ],
 "metadata": {
  "kernelspec": {
   "display_name": "Python 3 (ipykernel)",
   "language": "python",
   "name": "python3"
  },
  "language_info": {
   "codemirror_mode": {
    "name": "ipython",
    "version": 3
   },
   "file_extension": ".py",
   "mimetype": "text/x-python",
   "name": "python",
   "nbconvert_exporter": "python",
   "pygments_lexer": "ipython3",
   "version": "3.12.4"
  }
 },
 "nbformat": 4,
 "nbformat_minor": 5
}
